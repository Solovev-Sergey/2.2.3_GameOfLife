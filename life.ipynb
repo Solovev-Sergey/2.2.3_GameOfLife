{
 "cells": [
  {
   "cell_type": "code",
   "execution_count": null,
   "metadata": {},
   "outputs": [],
   "source": [
    "import numpy as np\n",
    "\n",
    "%matplotlib inline\n",
    "from matplotlib import pyplot as plt\n",
    "\n",
    "import signal\n",
    "from time import sleep\n",
    "\n",
    "from IPython.display import display, clear_output"
   ]
  },
  {
   "cell_type": "code",
   "execution_count": null,
   "metadata": {},
   "outputs": [],
   "source": [
    "signal_done = True\n",
    "\n",
    "def signal_handler(signal, frame):\n",
    "    global signal_done\n",
    "    signal_done = True\n",
    "\n",
    "def stop_on_signal():\n",
    "    global signal_done\n",
    "    signal_done = False\n",
    "    signal.signal(signal.SIGINT, signal_handler)"
   ]
  },
  {
   "cell_type": "code",
   "execution_count": null,
   "metadata": {},
   "outputs": [],
   "source": [
    "import life"
   ]
  },
  {
   "cell_type": "code",
   "execution_count": null,
   "metadata": {},
   "outputs": [],
   "source": [
    "def to_array(ss):\n",
    "    ms = [s for s in [s.strip() for s in ss.split(\"\\n\")] if len(s) > 0]\n",
    "    d = [[False if c == \".\" else True for c in s] for s in ms]\n",
    "    return np.array(d)"
   ]
  },
  {
   "cell_type": "code",
   "execution_count": null,
   "metadata": {},
   "outputs": [],
   "source": [
    "def show(state, size=None, clear=False):\n",
    "    if size is not None:\n",
    "        plt.figure(figsize=size)\n",
    "    plt.imshow(state, interpolation='nearest')\n",
    "    if clear:\n",
    "        clear_output(wait=True)\n",
    "    plt.show()\n",
    "\n",
    "def animate(state, n=None, delay=0.2, size=None):\n",
    "    stop_on_signal()\n",
    "    while not signal_done:\n",
    "        if n is not None:\n",
    "            if n <= 0:\n",
    "                break\n",
    "            n -= 1\n",
    "        show(state, size=size, clear=True)\n",
    "        state = life.step(state)\n",
    "        sleep(delay)\n",
    "    return state"
   ]
  },
  {
   "cell_type": "code",
   "execution_count": null,
   "metadata": {},
   "outputs": [],
   "source": [
    "## Random"
   ]
  },
  {
   "cell_type": "code",
   "execution_count": null,
   "metadata": {},
   "outputs": [],
   "source": [
    "rng = np.random.RandomState(0xDEADBEEF)\n",
    "data = np.zeros((128, 128), dtype=np.bool)\n",
    "data[32:(128-32),32:(128-32)] = rng.choice((True, False), size=(64, 64), p=(0.2, 0.8))\n",
    "show(data, size=(8,8))"
   ]
  },
  {
   "cell_type": "code",
   "execution_count": null,
   "metadata": {},
   "outputs": [],
   "source": [
    "data = animate(data, delay=0.01, size=(8,8))"
   ]
  },
  {
   "cell_type": "code",
   "execution_count": null,
   "metadata": {},
   "outputs": [],
   "source": [
    "## Blinker"
   ]
  },
  {
   "cell_type": "code",
   "execution_count": null,
   "metadata": {},
   "outputs": [],
   "source": [
    "data = np.zeros((5, 5), dtype=np.bool)\n",
    "data[2:3,1:4] = 1\n",
    "show(data)"
   ]
  },
  {
   "cell_type": "code",
   "execution_count": null,
   "metadata": {},
   "outputs": [],
   "source": [
    "_ = animate(data)"
   ]
  },
  {
   "cell_type": "code",
   "execution_count": null,
   "metadata": {},
   "outputs": [],
   "source": [
    "## Toad"
   ]
  },
  {
   "cell_type": "code",
   "execution_count": null,
   "metadata": {},
   "outputs": [],
   "source": [
    "data = np.zeros((6, 6), dtype=np.bool)\n",
    "data[2:3,2:5] = 1\n",
    "data[3:4,1:4] = 1\n",
    "show(data)"
   ]
  },
  {
   "cell_type": "code",
   "execution_count": null,
   "metadata": {},
   "outputs": [],
   "source": [
    "_ = animate(data)"
   ]
  },
  {
   "cell_type": "code",
   "execution_count": null,
   "metadata": {},
   "outputs": [],
   "source": [
    "## Glider"
   ]
  },
  {
   "cell_type": "code",
   "execution_count": null,
   "metadata": {},
   "outputs": [],
   "source": [
    "data = np.zeros((16, 16), dtype=np.bool)\n",
    "data[1:4,7:10] = to_array(\"\"\"\n",
    ".0.\n",
    "..0\n",
    "000\n",
    "\"\"\")\n",
    "show(data)"
   ]
  },
  {
   "cell_type": "code",
   "execution_count": null,
   "metadata": {},
   "outputs": [],
   "source": [
    "_ = animate(data)"
   ]
  },
  {
   "cell_type": "code",
   "execution_count": null,
   "metadata": {},
   "outputs": [],
   "source": [
    "## Penta-decathlon (period 15)"
   ]
  },
  {
   "cell_type": "code",
   "execution_count": null,
   "metadata": {},
   "outputs": [],
   "source": [
    "data = np.zeros((18, 11), dtype=np.bool)\n",
    "data[5:13,4:7] = 1\n",
    "data[6,5] = 0\n",
    "data[11,5] = 0\n",
    "show(data, size=(6,6))"
   ]
  },
  {
   "cell_type": "code",
   "execution_count": null,
   "metadata": {},
   "outputs": [],
   "source": [
    "_ = animate(data, size=(6,6))"
   ]
  },
  {
   "cell_type": "code",
   "execution_count": null,
   "metadata": {},
   "outputs": [],
   "source": [
    "## Glider gun"
   ]
  },
  {
   "cell_type": "code",
   "execution_count": null,
   "metadata": {},
   "outputs": [],
   "source": [
    "data = np.zeros((64, 64), dtype=np.bool)\n",
    "data[1:10,0:36] = to_array(\"\"\"\n",
    "........................0...........\n",
    "......................0.0...........\n",
    "............00......00............00\n",
    "...........0...0....00............00\n",
    "00........0.....0...00..............\n",
    "00........0...0.00....0.0...........\n",
    "..........0.....0.......0...........\n",
    "...........0...0....................\n",
    "............00......................\n",
    "\"\"\")\n",
    "show(data, size=(8,8))"
   ]
  },
  {
   "cell_type": "code",
   "execution_count": null,
   "metadata": {},
   "outputs": [],
   "source": [
    "data = animate(data, size=(8,8), delay=0.05)"
   ]
  },
  {
   "cell_type": "code",
   "execution_count": null,
   "metadata": {},
   "outputs": [],
   "source": [
    "## Infinite growth"
   ]
  },
  {
   "cell_type": "code",
   "execution_count": null,
   "metadata": {},
   "outputs": [],
   "source": [
    "data = np.zeros((64, 64), dtype=np.bool)\n",
    "data[30:35, 30:35] = to_array(\"\"\"\n",
    "000.0\n",
    "0....\n",
    "...00\n",
    ".00.0\n",
    "0.0.0\n",
    "\"\"\")\n",
    "show(data, size=(8,8))"
   ]
  },
  {
   "cell_type": "code",
   "execution_count": null,
   "metadata": {},
   "outputs": [],
   "source": [
    "data = animate(data, size=(8,8), delay=0.05)"
   ]
  },
  {
   "cell_type": "code",
   "execution_count": null,
   "metadata": {},
   "outputs": [],
   "source": [
    "data = np.zeros((64, 64), dtype=np.bool)\n",
    "data[20:34,22:35] = to_array(\"\"\"\n",
    ".............\n",
    "....00.0.....\n",
    "....0.00.....\n",
    ".............\n",
    ".....000.....\n",
    "....0.0.0.00.\n",
    "....0...0.00.\n",
    ".00.0...0....\n",
    ".00.0...0....\n",
    ".....000.....\n",
    ".............\n",
    ".....00.0....\n",
    ".....0.00....\n",
    ".............\n",
    "\"\"\")\n",
    "show(data, size=(8,8))"
   ]
  },
  {
   "cell_type": "code",
   "execution_count": null,
   "metadata": {},
   "outputs": [],
   "source": [
    "_ = animate(data, size=(8,8), delay=0.05)"
   ]
  },
  {
   "cell_type": "code",
   "execution_count": null,
   "metadata": {},
   "outputs": [],
   "source": [
    "data = np.zeros((64, 64), dtype=np.bool)\n",
    "data[20:36,22:38] = to_array(\"\"\"\n",
    "................\n",
    ".00.0.0.0.00.0..\n",
    ".0.000.000.00.0.\n",
    ".0000.000.00.0..\n",
    ".000.0.0.0.0000.\n",
    "..000.0.000.00..\n",
    ".0000000.0000.0.\n",
    "..0.0.00000000..\n",
    ".0.000.00.0.0.0.\n",
    ".000000.000000..\n",
    ".0.00.00000.0.0.\n",
    ".000.000000000..\n",
    "..000.0.0.0.000.\n",
    ".000.0.0.0.00.0.\n",
    ".0.000000000000.\n",
    "................\n",
    "\"\"\")\n",
    "show(data, size=(8,8))"
   ]
  },
  {
   "cell_type": "code",
   "execution_count": null,
   "metadata": {},
   "outputs": [],
   "source": [
    "_ = animate(data, size=(8,8), delay=0.05)"
   ]
  },
  {
   "cell_type": "code",
   "execution_count": null,
   "metadata": {},
   "outputs": [],
   "source": []
  }
 ],
 "metadata": {
  "kernelspec": {
   "display_name": "Python 3",
   "language": "python",
   "name": "python3"
  },
  "language_info": {
   "codemirror_mode": {
    "name": "ipython",
    "version": 3
   },
   "file_extension": ".py",
   "mimetype": "text/x-python",
   "name": "python",
   "nbconvert_exporter": "python",
   "pygments_lexer": "ipython3",
   "version": "3.7.4"
  }
 },
 "nbformat": 4,
 "nbformat_minor": 4
}
