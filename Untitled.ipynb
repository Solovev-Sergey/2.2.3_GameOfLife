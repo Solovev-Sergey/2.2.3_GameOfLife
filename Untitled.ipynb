{
 "cells": [
  {
   "cell_type": "code",
   "execution_count": 48,
   "metadata": {},
   "outputs": [],
   "source": [
    "import numpy as np\n",
    "\n",
    "def step(state):\n",
    "    state2=state*1\n",
    "    S=np.roll(state2, 1, axis=0)+np.roll(state2, -1, axis=0)+np.roll(state2, 1, axis=1)+np.roll(state2, -1, axis=1)+np.roll(np.roll(state2, 1, axis=0), 1, axis=1)+np.roll(np.roll(state2,-1,axis=0), 1, axis=1)+np.roll(np.roll(state2, 1, axis=0), -1, axis=1)+np.roll(np.roll(state2, -1, axis=0), -1, axis=1)\n",
    "    print(np.logical_or((S==3),(((S==2)+(S==3)*state))))"
   ]
  },
  {
   "cell_type": "code",
   "execution_count": 49,
   "metadata": {},
   "outputs": [
    {
     "name": "stdout",
     "output_type": "stream",
     "text": [
      "[[ True False  True False]\n",
      " [False False  True False]\n",
      " [ True False False False]]\n"
     ]
    }
   ],
   "source": [
    "a=np.array([[True, True, True, False],\n",
    "    [False, True, True, False],\n",
    "    [True, False, False, False]])\n",
    "\n",
    "step(a)\n"
   ]
  },
  {
   "cell_type": "code",
   "execution_count": null,
   "metadata": {},
   "outputs": [],
   "source": []
  }
 ],
 "metadata": {
  "kernelspec": {
   "display_name": "Python 3",
   "language": "python",
   "name": "python3"
  },
  "language_info": {
   "codemirror_mode": {
    "name": "ipython",
    "version": 3
   },
   "file_extension": ".py",
   "mimetype": "text/x-python",
   "name": "python",
   "nbconvert_exporter": "python",
   "pygments_lexer": "ipython3",
   "version": "3.7.5"
  }
 },
 "nbformat": 4,
 "nbformat_minor": 2
}
